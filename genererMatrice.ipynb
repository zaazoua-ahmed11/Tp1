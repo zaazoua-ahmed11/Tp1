{
 "cells": [
  {
   "cell_type": "code",
   "execution_count": 31,
   "id": "ed25edf4-75df-4b78-ad23-02dca7a93ef5",
   "metadata": {},
   "outputs": [
    {
     "name": "stdout",
     "output_type": "stream",
     "text": [
      "\n",
      "Matrice sauvegardée dans matrices\\matrice.txt\n",
      "\n",
      "Nouvelle matrice générée :\n",
      "A |  0   5   1   3   1   2   1   9   9\n",
      "B |  5   0   2   8   7   7   8   3   7\n",
      "C |  1   2   0   3   4   1   6   4   8\n",
      "D |  3   8   3   0   7   4   8   5   8\n",
      "E |  1   7   4   7   0   9   9   1   8\n",
      "F |  2   7   1   4   9   0   1   5   8\n",
      "G |  1   8   6   8   9   1   0   6   1\n",
      "H |  9   3   4   5   1   5   6   0   6\n",
      "I |  9   7   8   8   8   8   1   6   0\n"
     ]
    }
   ],
   "source": [
    "import numpy as np\n",
    "import os\n",
    "\n",
    "def generer_matrice_symetrique(taille=9):\n",
    "    matrice = np.random.randint(1, 10, size=(taille, taille)) \n",
    "    matrice = np.triu(matrice, 1)  \n",
    "    matrice += matrice.T  \n",
    "    np.fill_diagonal(matrice, 0)  \n",
    "    return matrice\n",
    "\n",
    "def sauvegarder_matrice(matrice, dossier=\"matrices\", fichier=\"matrice.txt\"):\n",
    "    os.makedirs(dossier, exist_ok=True)  \n",
    "    chemin_fichier = os.path.join(dossier, fichier)\n",
    "    np.savetxt(chemin_fichier, matrice, fmt=\"%d\")  \n",
    "    print(f\"\\nMatrice sauvegardée dans {chemin_fichier}\")\n",
    "\n",
    "def afficher_matrice(matrice):\n",
    "    taille = len(matrice)\n",
    "    lettres = [chr(65 + i) for i in range(taille)]\n",
    "    \n",
    "    \n",
    "    for i in range(taille):\n",
    "        ligne = \"  \".join(f\"{matrice[i][j]:2}\" for j in range(taille))\n",
    "        print(f\"{lettres[i]} | {ligne}\")\n",
    "\n",
    "if __name__ == \"__main__\":\n",
    "    # On force la génération d'une nouvelle matrice 9x9\n",
    "    matrice = generer_matrice_symetrique(9)\n",
    "    sauvegarder_matrice(matrice)\n",
    "\n",
    "    print(\"\\nNouvelle matrice générée :\")\n",
    "    afficher_matrice(matrice)\n"
   ]
  }
 ],
 "metadata": {
  "kernelspec": {
   "display_name": "Python [conda env:base] *",
   "language": "python",
   "name": "conda-base-py"
  },
  "language_info": {
   "codemirror_mode": {
    "name": "ipython",
    "version": 3
   },
   "file_extension": ".py",
   "mimetype": "text/x-python",
   "name": "python",
   "nbconvert_exporter": "python",
   "pygments_lexer": "ipython3",
   "version": "3.12.7"
  }
 },
 "nbformat": 4,
 "nbformat_minor": 5
}
