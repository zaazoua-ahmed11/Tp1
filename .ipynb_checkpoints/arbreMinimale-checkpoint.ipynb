{
 "cells": [
  {
   "cell_type": "code",
   "execution_count": 7,
   "id": "a20c6c32-cea2-44ef-96a0-08bf9bb6b035",
   "metadata": {},
   "outputs": [
    {
     "name": "stdout",
     "output_type": "stream",
     "text": [
      "\n",
      "Matrice des distances :\n",
      "[[0 3 9 3 8 3 7 4 7]\n",
      " [3 0 5 1 7 3 9 1 2]\n",
      " [9 5 0 5 7 8 8 2 9]\n",
      " [3 1 5 0 5 1 2 4 8]\n",
      " [8 7 7 5 0 1 7 6 9]\n",
      " [3 3 8 1 1 0 7 7 7]\n",
      " [7 9 8 2 7 7 0 4 2]\n",
      " [4 1 2 4 6 7 4 0 2]\n",
      " [7 2 9 8 9 7 2 2 0]]\n"
     ]
    },
    {
     "name": "stdin",
     "output_type": "stream",
     "text": [
      "Choisissez un point de départ (A-I) :  h\n"
     ]
    },
    {
     "name": "stdout",
     "output_type": "stream",
     "text": [
      "\n",
      "Chemin trouvé : H -> B -> D -> F -> E -> C -> G -> I -> A\n"
     ]
    }
   ],
   "source": [
    "import numpy as np\n",
    "import os\n",
    "\n",
    "def charger_matrice(chemin_fichier=\"matrices/matrice.txt\"):\n",
    "    \"\"\"Charge la matrice depuis un fichier texte.\"\"\"\n",
    "    if not os.path.exists(chemin_fichier):\n",
    "        print(f\"Erreur : Le fichier '{chemin_fichier}' n'existe pas.\")\n",
    "        return None\n",
    "    return np.loadtxt(chemin_fichier, dtype=int)\n",
    "\n",
    "def trouver_chemin_plus_court(matrice, depart=0):\n",
    "    visited = [] \n",
    "    j = 0 \n",
    "    chemin = []  \n",
    "\n",
    "    while j < len(matrice):  \n",
    "        chemin.append(depart) \n",
    "        distance_minimale = float('inf')\n",
    "        for i in range(len(matrice)):\n",
    "            if i not in visited and 0 < matrice[depart, i] < distance_minimale:\n",
    "                distance_minimale = matrice[depart, i] \n",
    "                prochain_point = i  \n",
    "\n",
    "       \n",
    "        visited.append(depart)\n",
    "        depart = prochain_point  \n",
    "        j += 1  \n",
    "\n",
    "    return chemin\n",
    "\n",
    "\n",
    "def choisir_depart(nombre_points):\n",
    "    while True:\n",
    "        lettre = input(f\"Choisissez un point de départ (A-{chr(65 + nombre_points - 1)}) : \").upper()\n",
    "        if 'A' <= lettre < chr(65 + nombre_points):\n",
    "            return ord(lettre) - 65\n",
    "        print(\"Entrée invalide, veuillez choisir une lettre valide.\")\n",
    "\n",
    "if __name__ == \"__main__\":\n",
    "    matrice = charger_matrice()  \n",
    "\n",
    "    if matrice is not None:\n",
    "        print(\"\\nMatrice des distances :\")\n",
    "        print(matrice)\n",
    "\n",
    "        depart = choisir_depart(len(matrice)) \n",
    "        chemin_optimal = trouver_chemin_plus_court(matrice, depart)\n",
    "\n",
    "        print(\"\\nChemin trouvé :\", \" -> \".join(chr(65 + i) for i in chemin_optimal))\n"
   ]
  }
 ],
 "metadata": {
  "kernelspec": {
   "display_name": "Python [conda env:base] *",
   "language": "python",
   "name": "conda-base-py"
  },
  "language_info": {
   "codemirror_mode": {
    "name": "ipython",
    "version": 3
   },
   "file_extension": ".py",
   "mimetype": "text/x-python",
   "name": "python",
   "nbconvert_exporter": "python",
   "pygments_lexer": "ipython3",
   "version": "3.12.7"
  }
 },
 "nbformat": 4,
 "nbformat_minor": 5
}
