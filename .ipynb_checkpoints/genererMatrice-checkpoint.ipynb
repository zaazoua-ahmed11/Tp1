{
 "cells": [
  {
   "cell_type": "code",
   "execution_count": 23,
   "id": "ed25edf4-75df-4b78-ad23-02dca7a93ef5",
   "metadata": {},
   "outputs": [
    {
     "name": "stdout",
     "output_type": "stream",
     "text": [
      "\n",
      "Matrice générée ou chargée :\n",
      " 0   3   5   1\n",
      " 3   0   8   2\n",
      " 5   8   0   3\n",
      " 1   2   3   0\n"
     ]
    }
   ],
   "source": [
    "import numpy as np\n",
    "import os\n",
    "\n",
    "def generer_matrice_symetrique(taille=4):\n",
    "    matrice = np.random.randint(1, 10, size=(taille, taille)) \n",
    "    matrice = np.triu(matrice, 1)  \n",
    "    matrice += matrice.T  \n",
    "    np.fill_diagonal(matrice, 0)  \n",
    "    return matrice\n",
    "\n",
    "def sauvegarder_matrice(matrice, dossier=\"matrices\", fichier=\"matrice.txt\"):\n",
    "    os.makedirs(dossier, exist_ok=True)  \n",
    "    chemin_fichier = os.path.join(dossier, fichier)\n",
    "    np.savetxt(chemin_fichier, matrice, fmt=\"%d\")  \n",
    "    print(f\"\\nMatrice sauvegardée dans {chemin_fichier}\")\n",
    "\n",
    "def charger_matrice(chemin_fichier=\"matrices/matrice.txt\"):\n",
    "    if not os.path.exists(chemin_fichier):\n",
    "        print(f\"Erreur : Le fichier '{chemin_fichier}' n'existe pas.\")\n",
    "        return None\n",
    "    return np.loadtxt(chemin_fichier, dtype=int)\n",
    "\n",
    "def afficher_matrice(matrice):\n",
    "    taille = len(matrice)\n",
    "    lettres = [chr(65 + i) for i in range(taille)]\n",
    "    for i in range(taille):\n",
    "        ligne = \"  \".join(f\"{matrice[i][j]:2}\" for j in range(taille))\n",
    "        print(f\"{ligne}\")\n",
    "\n",
    "if __name__ == \"__main__\":\n",
    "    if os.path.exists(\"matrices/matrice.txt\"):\n",
    "        matrice = charger_matrice()\n",
    "    else:\n",
    "        matrice = generer_matrice_symetrique()\n",
    "        sauvegarder_matrice(matrice)\n",
    "\n",
    "    print(\"\\nMatrice générée ou chargée :\")\n",
    "    afficher_matrice(matrice)\n"
   ]
  }
 ],
 "metadata": {
  "kernelspec": {
   "display_name": "Python [conda env:base] *",
   "language": "python",
   "name": "conda-base-py"
  },
  "language_info": {
   "codemirror_mode": {
    "name": "ipython",
    "version": 3
   },
   "file_extension": ".py",
   "mimetype": "text/x-python",
   "name": "python",
   "nbconvert_exporter": "python",
   "pygments_lexer": "ipython3",
   "version": "3.12.7"
  }
 },
 "nbformat": 4,
 "nbformat_minor": 5
}
