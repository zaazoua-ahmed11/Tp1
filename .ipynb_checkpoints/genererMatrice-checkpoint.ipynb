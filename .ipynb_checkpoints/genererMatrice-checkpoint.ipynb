{
 "cells": [
  {
   "cell_type": "code",
   "execution_count": 55,
   "id": "ed25edf4-75df-4b78-ad23-02dca7a93ef5",
   "metadata": {},
   "outputs": [
    {
     "name": "stdout",
     "output_type": "stream",
     "text": [
      "\n",
      " Matrice sauvegardée dans matrices\\matrice.txt\n",
      "\n",
      " Matrice générée :\n",
      " 0   3   9   3   8   3   7   4   7\n",
      " 3   0   5   1   7   3   9   1   2\n",
      " 9   5   0   5   7   8   8   2   9\n",
      " 3   1   5   0   5   1   2   4   8\n",
      " 8   7   7   5   0   1   7   6   9\n",
      " 3   3   8   1   1   0   7   7   7\n",
      " 7   9   8   2   7   7   0   4   2\n",
      " 4   1   2   4   6   7   4   0   2\n",
      " 7   2   9   8   9   7   2   2   0\n"
     ]
    }
   ],
   "source": [
    "import numpy as np\n",
    "import os\n",
    "import shutil\n",
    "\n",
    "def generer_matrice_symetrique():  \n",
    "    matrice = np.random.randint(1, 10, size=(9, 9)) \n",
    "    matrice = np.triu(matrice, 1)  \n",
    "    matrice += matrice.T  \n",
    "    np.fill_diagonal(matrice, 0)  \n",
    "    return matrice\n",
    "\n",
    "def sauvegarder_matrice(matrice, dossier=\"matrices\", fichier=\"matrice.txt\"):\n",
    "   \n",
    "    chemin_fichier = os.path.join(dossier, fichier)\n",
    "    if os.path.exists(chemin_fichier):\n",
    "        os.remove(chemin_fichier)\n",
    "    \n",
    "    os.makedirs(dossier, exist_ok=True)\n",
    "    np.savetxt(chemin_fichier, matrice, fmt=\"%d\")\n",
    "    print(f\"\\n Matrice sauvegardée dans {chemin_fichier}\")\n",
    "\n",
    "def afficher_matrice(matrice):\n",
    "    taille = len(matrice)\n",
    "    print(\"\\n Matrice générée :\")\n",
    "    for i in range(taille):\n",
    "        ligne = \"  \".join(f\"{matrice[i][j]:2}\" for j in range(taille))\n",
    "        print(f\"{ligne}\")\n",
    "\n",
    "if __name__ == \"__main__\":\n",
    "    matrice = generer_matrice_symetrique()  \n",
    "    sauvegarder_matrice(matrice)\n",
    "    afficher_matrice(matrice)\n"
   ]
  }
 ],
 "metadata": {
  "kernelspec": {
   "display_name": "Python [conda env:base] *",
   "language": "python",
   "name": "conda-base-py"
  },
  "language_info": {
   "codemirror_mode": {
    "name": "ipython",
    "version": 3
   },
   "file_extension": ".py",
   "mimetype": "text/x-python",
   "name": "python",
   "nbconvert_exporter": "python",
   "pygments_lexer": "ipython3",
   "version": "3.12.7"
  }
 },
 "nbformat": 4,
 "nbformat_minor": 5
}
